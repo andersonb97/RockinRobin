{
 "cells": [
  {
   "cell_type": "code",
   "execution_count": 3,
   "metadata": {},
   "outputs": [],
   "source": [
    "import os\n",
    "import tweepy as tw\n",
    "import pandas as pd"
   ]
  },
  {
   "cell_type": "code",
   "execution_count": 5,
   "metadata": {},
   "outputs": [],
   "source": [
    "consumer_key= 'u19gcxlpv09g5kPb0zH5Xge0C'\n",
    "consumer_secret= 'hT956ukguRvOEZYXGUiryExqzTdUvKgJmy5z7S6dhoKAgv8jMP'\n",
    "access_token= '1326254977061322752-fxFHWAwoq5aXP2QXK7mM7Cos9XSH5g'\n",
    "access_token_secret= 'HdT1Yp6rja6rG5F1zz8qffX5v5uHaqUAMhax87HM1lPsU'"
   ]
  },
  {
   "cell_type": "code",
   "execution_count": 7,
   "metadata": {},
   "outputs": [],
   "source": [
    "auth = tw.OAuthHandler(consumer_key, consumer_secret)\n",
    "auth.set_access_token(access_token, access_token_secret)\n",
    "api = tw.API(auth, wait_on_rate_limit=True)"
   ]
  },
  {
   "cell_type": "code",
   "execution_count": 49,
   "metadata": {},
   "outputs": [],
   "source": [
    "# Define the search term and the date_since date as variables\n",
    "search_words = 'southwest' + ' #southwest'\n",
    "date_since = '2020-11-09'"
   ]
  },
  {
   "cell_type": "code",
   "execution_count": 50,
   "metadata": {},
   "outputs": [
    {
     "data": {
      "text/plain": [
       "[\"I'll be working hard over the next few days to source some fabulous and varied current #vacancies for the… https://t.co/Hg0AHKQnWw\",\n",
       " 'RT @DogsofTooting: Where is this lovely #Bordercollie #Sue #Devon #SouthWest #ex21 @KBeanbag @colliesontherun @MissingPetsGB @SAMPAuk_ @Ala…',\n",
       " 'RT @DogsofTooting: Where is this lovely #Bordercollie #Sue #Devon #SouthWest #ex21 @KBeanbag @colliesontherun @MissingPetsGB @SAMPAuk_ @Ala…',\n",
       " 'RT @DogsofTooting: Where is this lovely #Bordercollie #Sue #Devon #SouthWest #ex21 @KBeanbag @colliesontherun @MissingPetsGB @SAMPAuk_ @Ala…',\n",
       " 'RT @DogsofTooting: Where is this lovely #Bordercollie #Sue #Devon #SouthWest #ex21 @KBeanbag @colliesontherun @MissingPetsGB @SAMPAuk_ @Ala…',\n",
       " 'RT @DogsofTooting: Where is this lovely #Bordercollie #Sue #Devon #SouthWest #ex21 @KBeanbag @colliesontherun @MissingPetsGB @SAMPAuk_ @Ala…',\n",
       " 'RT @DogsofTooting: Where is this lovely #Bordercollie #Sue #Devon #SouthWest #ex21 @KBeanbag @colliesontherun @MissingPetsGB @SAMPAuk_ @Ala…',\n",
       " 'RT @DogsofTooting: Where is this lovely #Bordercollie #Sue #Devon #SouthWest #ex21 @KBeanbag @colliesontherun @MissingPetsGB @SAMPAuk_ @Ala…',\n",
       " 'RT @DogsofTooting: Where is this lovely #Bordercollie #Sue #Devon #SouthWest #ex21 @KBeanbag @colliesontherun @MissingPetsGB @SAMPAuk_ @Ala…',\n",
       " 'RT @LisSycamoreWood: Original Watercolor Painting : Prickly Pear Cactus #unframed \\n#SycamoreWoodStudio\\n\\n#watercolorpainting #artwork #walla…',\n",
       " 'RT @DogsofTooting: Where is this lovely #Bordercollie #Sue #Devon #SouthWest #ex21 @KBeanbag @colliesontherun @MissingPetsGB @SAMPAuk_ @Ala…',\n",
       " 'RT @DogsofTooting: Where is this lovely #Bordercollie #Sue #Devon #SouthWest #ex21 @KBeanbag @colliesontherun @MissingPetsGB @SAMPAuk_ @Ala…',\n",
       " 'RT @DogsofTooting: Where is this lovely #Bordercollie #Sue #Devon #SouthWest #ex21 @KBeanbag @colliesontherun @MissingPetsGB @SAMPAuk_ @Ala…',\n",
       " 'RT @DogsofTooting: Where is this lovely #Bordercollie #Sue #Devon #SouthWest #ex21 @KBeanbag @colliesontherun @MissingPetsGB @SAMPAuk_ @Ala…',\n",
       " 'RT @DogsofTooting: Where is this lovely #Bordercollie #Sue #Devon #SouthWest #ex21 @KBeanbag @colliesontherun @MissingPetsGB @SAMPAuk_ @Ala…',\n",
       " 'RT @DogsofTooting: Where is this lovely #Bordercollie #Sue #Devon #SouthWest #ex21 @KBeanbag @colliesontherun @MissingPetsGB @SAMPAuk_ @Ala…',\n",
       " 'RT @DogsofTooting: Where is this lovely #Bordercollie #Sue #Devon #SouthWest #ex21 @KBeanbag @colliesontherun @MissingPetsGB @SAMPAuk_ @Ala…',\n",
       " 'RT @DogsofTooting: Where is this lovely #Bordercollie #Sue #Devon #SouthWest #ex21 @KBeanbag @colliesontherun @MissingPetsGB @SAMPAuk_ @Ala…',\n",
       " 'Where is this lovely #Bordercollie #Sue #Devon #SouthWest #ex21 @KBeanbag @colliesontherun @MissingPetsGB @SAMPAuk_… https://t.co/FScrwAfMhd',\n",
       " 'RT @SouthWest_CoE: EVENING WEBINAR |  17.11.20 @ 7.30 pm\\nAlice Bird will be joining @SpaceCornwall and @goonhillyorg  to talk about the opp…',\n",
       " \"We're looking for someone to bake &amp; deliver Afternoon Teas in Devon! Must own a car &amp; be able to bake.Either a doub… https://t.co/ApX9lkzwlQ\",\n",
       " 'RT @KatieVillaUK: Check out my little video (and many others) this week #whereto. Amplifying #southwest #artists',\n",
       " '🥳 We’ve reached 1000 #Instagram Followers 🥳\\n\\nThank you to all our followers for your continued support 💪🏻\\n\\n#HGV… https://t.co/kfl0n8VtDR',\n",
       " '#M5 southbound between J14 and J15 | Southbound | Road Works | South Gloucestershire #uktrafficdelays #uktravelnews… https://t.co/IIyywUAUpp',\n",
       " 'RT @MiHiDigital: If you need a solicitor for a family law issue, look no further than this list. \\n\\nHere are ten of the best employment law…',\n",
       " 'RT @MiHiDigital: If you need a solicitor for a family law issue, look no further than this list. \\n\\nHere are ten of the best employment law…',\n",
       " 'If you need a solicitor for a family law issue, look no further than this list. \\n\\nHere are ten of the best employme… https://t.co/CeCVbftVoO',\n",
       " \"RT @CBAfternoonTeas: We're looking for someone to bake and deliver Afternoon Teas! Must own a car and be able to bake. Either a double sink…\",\n",
       " 'Original Watercolor Painting : Prickly Pear Cactus #unframed \\n#SycamoreWoodStudio\\n\\n#watercolorpainting #artwork… https://t.co/dWCSqzxfuA',\n",
       " \"RT @CBAfternoonTeas: We're looking for someone to bake and deliver Afternoon Teas! Must own a car and be able to bake. Either a double sink…\",\n",
       " \"RT @CBAfternoonTeas: We're looking for someone to bake and deliver Afternoon Teas in Devon! Must own a car and be able to bake. A double si…\",\n",
       " 'Looking for some inspiration during lockdown? Here are 5 things you can do for your business during lockdown:… https://t.co/ZY2svP2IzG',\n",
       " \"We're looking for someone to bake and deliver Afternoon Teas in Devon! Must own a car and be able to bake. A double… https://t.co/P65TwyR6dk\",\n",
       " \"We're looking for someone to bake and deliver Afternoon Teas! Must own a car and be able to bake. Either a double s… https://t.co/EQC041CHsR\",\n",
       " 'My @googlemaps data. Interesting to see my data. As a #LorryDriver I mainly travel across #SouthWest &amp; #SouthEast… https://t.co/NWwzbPSKiW',\n",
       " 'RT @Premscene: Great work @ERFilmFest with all your endeavours supporting #indie #filmmakers in the #southwest',\n",
       " 'RT @southwestcrc_: Have you subscribed to our newsletter yet? Sign up today to receive the latest threats and news from the centre directly…',\n",
       " 'We are so pleased to confirm our first completion #Keynsham our customers were delighted !#Southwest #development… https://t.co/mSWDLIng8u',\n",
       " '.@ArtyAbstract Throwing caution. #southwest https://t.co/gtZq4OxGZL',\n",
       " \"We're looking for someone to bake and deliver Afternoon Teas in Devon! Must own a car and be able to bake. A double… https://t.co/QCSAUO7sUn\",\n",
       " 'Clay Richie: Why everyone is so proud of Yoruba leaders By Elli... https://t.co/tADTE2y1iY #News #Nigeria #Africa… https://t.co/ZR7lAR8Jrr',\n",
       " '#A46 southbound between M4 and A420 | Southbound | Road Works | South Gloucestershire #uktrafficdelays… https://t.co/RarkXFo5RZ',\n",
       " '#Southwest #Cross #Necklace, Onyx Snowflake Obsidian Handmade Jewelry @ShadowDogDesign \\nhttps://t.co/c6lcVFhpaz https://t.co/3LcWK3mt8w',\n",
       " 'RT @southwestcrc_: Have you subscribed to our newsletter yet? Sign up today to receive the latest threats and news from the centre directly…',\n",
       " 'RT @Premscene: Great work @ERFilmFest with all your endeavours supporting #indie #filmmakers in the #southwest https://t.co/BpEdgZLJ0W',\n",
       " 'RT @southwestcrc_: Have you subscribed to our newsletter yet? Sign up today to receive the latest threats and news from the centre directly…',\n",
       " 'RT @KatieVillaUK: Check out my little video (and many others) this week #whereto. Amplifying #southwest #artists https://t.co/H3x9FAcFFu',\n",
       " \"We're looking for someone to bake and deliver Afternoon Teas in Devon! Must own a car and be able to bake. A double… https://t.co/QtdcyWJvU1\",\n",
       " 'Nancy Ramaurthi and Agnieszka Burban Discuss Women in Wellness  #kayak #trivago #hotels #vacations #hotwire… https://t.co/SHaWqXS2nE',\n",
       " '#A40 westbound between A417 near Gloucester (north) and A38 | Westbound | Road Works | Gloucestershire… https://t.co/EjFsOaM1Dn',\n",
       " 'RT @KatieVillaUK: Check out my little video (and many others) this week #whereto. Amplifying #southwest #artists',\n",
       " 'After my tweet earlier I’ve had loads of small companies send me links to their pages! Excellent 🙂 keep them coming… https://t.co/w2QC16sWTG',\n",
       " '#SouthWest Sports #twitterpack #twitter teams do your thing... \\nvote/support @acfswsport ✅ https://t.co/3jS9M8Lmze',\n",
       " 'It’s another #Southwest Airlines commercial “Wanna get away?” https://t.co/eG3Hs4vzhX',\n",
       " '#M5 southbound between J19 and J20 | Southbound | Road Works | North Somerset #uktrafficdelays #uktravelnews… https://t.co/O5NQZh4eNT',\n",
       " 'Check out my little video (and many others) this week #whereto. Amplifying #southwest #artists https://t.co/H3x9FAcFFu',\n",
       " 'Give this great program for indie music a listen! Outta the great #southwest 🙌🏼☀️🌵 https://t.co/Crt1aEXaNt',\n",
       " 'Looking for that new role? Need help with attracting the right candidate? Please give our sister company a follow… https://t.co/JKy2MXFuth',\n",
       " \"From now until Christmas we will be donating £250 to this amazing charity @Children'sHospiceSouthWest for every new… https://t.co/MjziR3pp0m\",\n",
       " 'Which one is the best #airline to fly during #COVID19? \\n#Delta #AmericanAirlines #Alska #Southwest or Other?',\n",
       " '@louisewrites @ExeCityFutures And the #Southwest leads the way with 1st, 2nd and 5th, all of them great cities.',\n",
       " 'Great work @ERFilmFest with all your endeavours supporting #indie #filmmakers in the #southwest https://t.co/BpEdgZLJ0W',\n",
       " 'Time for another cuppa ☕\\n\\n#MomentswithMiles #MilesTea #Tea #LooseLeafTea #LooseLeaf #TeaLeaves #WestCountry… https://t.co/xUCryPO8xC',\n",
       " '#A38 eastbound within the A374 near Plymouth junction | Eastbound | Road Works | City of Plymouth #uktrafficdelays… https://t.co/qrDp5FApWU',\n",
       " '📷 11-10-2020. Tue. Yes early morning look at a special area. Love seeing cattle in a far field. And the M Mountain.… https://t.co/KGgqVjaOzx',\n",
       " 'We specialize in: \\n👉 Water &amp; Waste 👉 Hydraulics\\n👉 Electro-Mechanical 👉Pneumatic Components\\n.\\n.\\n. \\n#AmericanAirlines… https://t.co/9d8cgQFuxJ',\n",
       " 'RT @valleerose24: Great Southwestern earrings: red chili peppers!\\n\\nhttps://t.co/JdFcfN1ivK\\n#southwest https://t.co/H1TKRz6uBt',\n",
       " \"We're looking for someone to bake and deliver Afternoon Teas in Devon! Must own a car and be able to bake. A double… https://t.co/1VxChOGjvO\",\n",
       " '#A36 southbound between A345 and A30 (east) | Southbound | Road Works | Wiltshire #uktrafficdelays #uktravelnews… https://t.co/FFFFCAqrIX',\n",
       " 'RT @Elidanza: Leap!\\n\\n#painting #art #watercolour #fox #britishwildlife #movement #watercolourpainting #wildlifeartist #wildlifeart #BigArtB…',\n",
       " \"We're looking for someone to bake and deliver Afternoon Teas in Sussex! Must own a car and be able to bake. A doubl… https://t.co/LKFDRZkxkw\",\n",
       " \"We're looking for someone to bake and deliver Afternoon Teas in Devon! Must own a car and be able to bake. A double… https://t.co/ysEyvEsJ0t\",\n",
       " 'RT @Brimshack: Gray Mountain Murals https://t.co/WhXCAi3e9H via @wordpressdotcom #streetart #Murals #Painting #Travel #roadtrip #southwest…',\n",
       " 'RT @Brimshack: Gray Mountain Murals https://t.co/WhXCAi3e9H via @wordpressdotcom #streetart #Murals #Painting #Travel #roadtrip #southwest…',\n",
       " 'Worrell,  Bill Worrell,  Southwest Jewelry,  Bolo Tie,  Shaman,  Sterling Bolo Tie,  Southwestern,  Gifts for Him,… https://t.co/gVp9ZDwoAP',\n",
       " 'RT @Brimshack: Gray Mountain Murals https://t.co/WhXCAi3e9H via @wordpressdotcom #streetart #Murals #Painting #Travel #roadtrip #southwest…',\n",
       " 'Ahead of the @TechSWofficial Awards, @Pippa__Clarke spoke to Tim Edwards of start-up business @codices_io about the… https://t.co/L9WIETrfoM',\n",
       " 'RT @SwatproAcademy: Lee’s a chef of distinction, thanks to lockdown learning.\\n\\nhttps://t.co/b5HXZSxKEp\\n\\n#apprenticeships #hospitality #cate…',\n",
       " 'Vacancy #9 - Registered #Manager: https://t.co/IoHdwlvKkx\\n\\n#SouthWest #PunchlineCareers https://t.co/7gIyYAncU6',\n",
       " 'On the search for south-west based artists/creatives/theatre companies \\n\\n#bath #creatives #culture #art #theatre #southwest #bristol',\n",
       " 'New on the market!\\nBeautiful villa with pool and holiday rental license\\n🛏️3   🛁2   🏠158㎡   🌳806㎡\\n\\n1.100.000 EUR\\nSee… https://t.co/Bhr3M7oU71',\n",
       " \"We're looking for someone to bake and deliver Afternoon Teas in Devon! Must own a car and be able to bake. A double… https://t.co/H80Ica3wu5\",\n",
       " 'Gray Mountain Murals https://t.co/WhXCAi3e9H via @wordpressdotcom #streetart #Murals #Painting #Travel #roadtrip… https://t.co/fNxeNQevCb',\n",
       " 'We’ve announced £60m funding to upgrade the #A361 North Devon Link Road.🛣️ Our investment will boost the local econ… https://t.co/IrzqnoiQCK',\n",
       " 'RT @SouthWest_CoE: EVENING WEBINAR |  17.11.20 @ 7.30 pm\\nAlice Bird will be joining @SpaceCornwall and @goonhillyorg  to talk about the opp…',\n",
       " 'We are thrilled that we are able to remain OPEN throughout this second lockdown period! ❤️🏡\\nIf you would like to vi… https://t.co/2uyiUu7JRY',\n",
       " 'An introduction to 3CX Hosted...\\n\\nA software-based #telephone #system for 10 – 1,000+ users that is feature-rich, s… https://t.co/L0nULkNkTR',\n",
       " 'Have you subscribed to our newsletter yet? Sign up today to receive the latest threats and news from the centre dir… https://t.co/t4zJNv8ExU',\n",
       " 'Barbra, please, go get your laptop from security. They’ve said your name three times. That’s very generous. Please… https://t.co/srKVgiuQf2',\n",
       " \"RT @LitWorks: #Writers of the #southwest get your applications in to be considered for a 'Free Read' via our friends and partners @TLCUK -…\",\n",
       " 'To provide the #design, #supply &amp; #installation of #modular #buildings in the #SouthWest, apply to @SWPAProcure new… https://t.co/YXZ6huHH11',\n",
       " 'RT @Swiftorg: \"The team were great from start to finish...\"\\nhttps://t.co/TboXDkyEtn\\n#bristol #somerset #southwest #riveravon #gardendesign…',\n",
       " 'COMMERCIAL SITE REQUIRED \\n\\nDo you have land? In South West Scotland? Near main road networks and services? Looking… https://t.co/fKavOT1PY2',\n",
       " \"RT @LitWorks: #Writers of the #southwest get your applications in to be considered for a 'Free Read' via our friends and partners @TLCUK -…\",\n",
       " 'Lee’s a chef of distinction, thanks to lockdown learning.\\n\\nhttps://t.co/b5HXZSxKEp\\n\\n#apprenticeships #hospitality… https://t.co/ZVOVDzZe4c',\n",
       " \"RT @LitWorks: #Writers of the #southwest get your applications in to be considered for a 'Free Read' via our friends and partners @TLCUK -…\",\n",
       " '#A36 southbound between A4 and A366 | Southbound | Road Works | Bath and North East Somerset #uktrafficdelays… https://t.co/seMq7LXbxQ',\n",
       " \"RT @LitWorks: #Writers of the #southwest get your applications in to be considered for a 'Free Read' via our friends and partners @TLCUK -…\",\n",
       " \"RT @LitWorks: #Writers of the #southwest get your applications in to be considered for a 'Free Read' via our friends and partners @TLCUK -…\",\n",
       " \"RT @LitWorks: #Writers of the #southwest get your applications in to be considered for a 'Free Read' via our friends and partners @TLCUK -…\"]"
      ]
     },
     "execution_count": 50,
     "metadata": {},
     "output_type": "execute_result"
    }
   ],
   "source": [
    "tweets = tw.Cursor(api.search,\n",
    "              q=search_words,\n",
    "              lang=\"en\",\n",
    "              since=date_since).items(100)\n",
    "[tweet.text for tweet in tweets]"
   ]
  },
  {
   "cell_type": "code",
   "execution_count": 51,
   "metadata": {},
   "outputs": [
    {
     "data": {
      "text/plain": [
       "'southwest #southwest -filter:retweets'"
      ]
     },
     "execution_count": 51,
     "metadata": {},
     "output_type": "execute_result"
    }
   ],
   "source": [
    "# remove re-tweets\n",
    "new_search = search_words + \" -filter:retweets\"\n",
    "new_search"
   ]
  },
  {
   "cell_type": "code",
   "execution_count": 54,
   "metadata": {},
   "outputs": [
    {
     "data": {
      "text/plain": [
       "[\"I'll be working hard over the next few days to source some fabulous and varied current #vacancies for the… https://t.co/Hg0AHKQnWw\",\n",
       " 'Where is this lovely #Bordercollie #Sue #Devon #SouthWest #ex21 @KBeanbag @colliesontherun @MissingPetsGB @SAMPAuk_… https://t.co/FScrwAfMhd',\n",
       " \"We're looking for someone to bake &amp; deliver Afternoon Teas in Devon! Must own a car &amp; be able to bake.Either a doub… https://t.co/ApX9lkzwlQ\",\n",
       " '🥳 We’ve reached 1000 #Instagram Followers 🥳\\n\\nThank you to all our followers for your continued support 💪🏻\\n\\n#HGV… https://t.co/kfl0n8VtDR',\n",
       " '#M5 southbound between J14 and J15 | Southbound | Road Works | South Gloucestershire #uktrafficdelays #uktravelnews… https://t.co/IIyywUAUpp',\n",
       " 'If you need a solicitor for a family law issue, look no further than this list. \\n\\nHere are ten of the best employme… https://t.co/CeCVbftVoO',\n",
       " 'Original Watercolor Painting : Prickly Pear Cactus #unframed \\n#SycamoreWoodStudio\\n\\n#watercolorpainting #artwork… https://t.co/dWCSqzxfuA',\n",
       " 'Looking for some inspiration during lockdown? Here are 5 things you can do for your business during lockdown:… https://t.co/ZY2svP2IzG',\n",
       " \"We're looking for someone to bake and deliver Afternoon Teas in Devon! Must own a car and be able to bake. A double… https://t.co/P65TwyR6dk\",\n",
       " \"We're looking for someone to bake and deliver Afternoon Teas! Must own a car and be able to bake. Either a double s… https://t.co/EQC041CHsR\",\n",
       " 'My @googlemaps data. Interesting to see my data. As a #LorryDriver I mainly travel across #SouthWest &amp; #SouthEast… https://t.co/NWwzbPSKiW',\n",
       " 'We are so pleased to confirm our first completion #Keynsham our customers were delighted !#Southwest #development… https://t.co/mSWDLIng8u',\n",
       " '.@ArtyAbstract Throwing caution. #southwest https://t.co/gtZq4OxGZL',\n",
       " \"We're looking for someone to bake and deliver Afternoon Teas in Devon! Must own a car and be able to bake. A double… https://t.co/QCSAUO7sUn\",\n",
       " 'Clay Richie: Why everyone is so proud of Yoruba leaders By Elli... https://t.co/tADTE2y1iY #News #Nigeria #Africa… https://t.co/ZR7lAR8Jrr',\n",
       " '#A46 southbound between M4 and A420 | Southbound | Road Works | South Gloucestershire #uktrafficdelays… https://t.co/RarkXFo5RZ',\n",
       " '#Southwest #Cross #Necklace, Onyx Snowflake Obsidian Handmade Jewelry @ShadowDogDesign \\nhttps://t.co/c6lcVFhpaz https://t.co/3LcWK3mt8w',\n",
       " \"We're looking for someone to bake and deliver Afternoon Teas in Devon! Must own a car and be able to bake. A double… https://t.co/QtdcyWJvU1\",\n",
       " 'Nancy Ramaurthi and Agnieszka Burban Discuss Women in Wellness  #kayak #trivago #hotels #vacations #hotwire… https://t.co/SHaWqXS2nE',\n",
       " '#A40 westbound between A417 near Gloucester (north) and A38 | Westbound | Road Works | Gloucestershire… https://t.co/EjFsOaM1Dn',\n",
       " 'After my tweet earlier I’ve had loads of small companies send me links to their pages! Excellent 🙂 keep them coming… https://t.co/w2QC16sWTG',\n",
       " '#SouthWest Sports #twitterpack #twitter teams do your thing... \\nvote/support @acfswsport ✅ https://t.co/3jS9M8Lmze',\n",
       " 'It’s another #Southwest Airlines commercial “Wanna get away?” https://t.co/eG3Hs4vzhX',\n",
       " '#M5 southbound between J19 and J20 | Southbound | Road Works | North Somerset #uktrafficdelays #uktravelnews… https://t.co/O5NQZh4eNT',\n",
       " 'Check out my little video (and many others) this week #whereto. Amplifying #southwest #artists https://t.co/H3x9FAcFFu',\n",
       " 'Give this great program for indie music a listen! Outta the great #southwest 🙌🏼☀️🌵 https://t.co/Crt1aEXaNt',\n",
       " 'Looking for that new role? Need help with attracting the right candidate? Please give our sister company a follow… https://t.co/JKy2MXFuth',\n",
       " \"From now until Christmas we will be donating £250 to this amazing charity @Children'sHospiceSouthWest for every new… https://t.co/MjziR3pp0m\",\n",
       " 'Which one is the best #airline to fly during #COVID19? \\n#Delta #AmericanAirlines #Alska #Southwest or Other?',\n",
       " '@louisewrites @ExeCityFutures And the #Southwest leads the way with 1st, 2nd and 5th, all of them great cities.',\n",
       " 'Great work @ERFilmFest with all your endeavours supporting #indie #filmmakers in the #southwest https://t.co/BpEdgZLJ0W',\n",
       " 'Time for another cuppa ☕\\n\\n#MomentswithMiles #MilesTea #Tea #LooseLeafTea #LooseLeaf #TeaLeaves #WestCountry… https://t.co/xUCryPO8xC',\n",
       " '#A38 eastbound within the A374 near Plymouth junction | Eastbound | Road Works | City of Plymouth #uktrafficdelays… https://t.co/qrDp5FApWU',\n",
       " '📷 11-10-2020. Tue. Yes early morning look at a special area. Love seeing cattle in a far field. And the M Mountain.… https://t.co/KGgqVjaOzx',\n",
       " 'We specialize in: \\n👉 Water &amp; Waste 👉 Hydraulics\\n👉 Electro-Mechanical 👉Pneumatic Components\\n.\\n.\\n. \\n#AmericanAirlines… https://t.co/9d8cgQFuxJ',\n",
       " \"We're looking for someone to bake and deliver Afternoon Teas in Devon! Must own a car and be able to bake. A double… https://t.co/1VxChOGjvO\",\n",
       " '#A36 southbound between A345 and A30 (east) | Southbound | Road Works | Wiltshire #uktrafficdelays #uktravelnews… https://t.co/FFFFCAqrIX',\n",
       " \"We're looking for someone to bake and deliver Afternoon Teas in Sussex! Must own a car and be able to bake. A doubl… https://t.co/LKFDRZkxkw\",\n",
       " \"We're looking for someone to bake and deliver Afternoon Teas in Devon! Must own a car and be able to bake. A double… https://t.co/ysEyvEsJ0t\",\n",
       " 'Worrell,  Bill Worrell,  Southwest Jewelry,  Bolo Tie,  Shaman,  Sterling Bolo Tie,  Southwestern,  Gifts for Him,… https://t.co/gVp9ZDwoAP',\n",
       " 'Ahead of the @TechSWofficial Awards, @Pippa__Clarke spoke to Tim Edwards of start-up business @codices_io about the… https://t.co/L9WIETrfoM',\n",
       " 'Vacancy #9 - Registered #Manager: https://t.co/IoHdwlvKkx\\n\\n#SouthWest #PunchlineCareers https://t.co/7gIyYAncU6',\n",
       " 'On the search for south-west based artists/creatives/theatre companies \\n\\n#bath #creatives #culture #art #theatre #southwest #bristol',\n",
       " 'New on the market!\\nBeautiful villa with pool and holiday rental license\\n🛏️3   🛁2   🏠158㎡   🌳806㎡\\n\\n1.100.000 EUR\\nSee… https://t.co/Bhr3M7oU71',\n",
       " \"We're looking for someone to bake and deliver Afternoon Teas in Devon! Must own a car and be able to bake. A double… https://t.co/H80Ica3wu5\",\n",
       " 'Gray Mountain Murals https://t.co/WhXCAi3e9H via @wordpressdotcom #streetart #Murals #Painting #Travel #roadtrip… https://t.co/fNxeNQevCb',\n",
       " 'We’ve announced £60m funding to upgrade the #A361 North Devon Link Road.🛣️ Our investment will boost the local econ… https://t.co/IrzqnoiQCK',\n",
       " 'We are thrilled that we are able to remain OPEN throughout this second lockdown period! ❤️🏡\\nIf you would like to vi… https://t.co/2uyiUu7JRY',\n",
       " 'An introduction to 3CX Hosted...\\n\\nA software-based #telephone #system for 10 – 1,000+ users that is feature-rich, s… https://t.co/L0nULkNkTR',\n",
       " 'Have you subscribed to our newsletter yet? Sign up today to receive the latest threats and news from the centre dir… https://t.co/t4zJNv8ExU',\n",
       " 'Barbra, please, go get your laptop from security. They’ve said your name three times. That’s very generous. Please… https://t.co/srKVgiuQf2',\n",
       " 'To provide the #design, #supply &amp; #installation of #modular #buildings in the #SouthWest, apply to @SWPAProcure new… https://t.co/YXZ6huHH11',\n",
       " 'COMMERCIAL SITE REQUIRED \\n\\nDo you have land? In South West Scotland? Near main road networks and services? Looking… https://t.co/fKavOT1PY2',\n",
       " 'Lee’s a chef of distinction, thanks to lockdown learning.\\n\\nhttps://t.co/b5HXZSxKEp\\n\\n#apprenticeships #hospitality… https://t.co/ZVOVDzZe4c',\n",
       " '#A36 southbound between A4 and A366 | Southbound | Road Works | Bath and North East Somerset #uktrafficdelays… https://t.co/seMq7LXbxQ',\n",
       " \"#Writers of the #southwest get your applications in to be considered for a 'Free Read' via our friends and partners… https://t.co/92V10lZXTv\",\n",
       " 'We’re big enough to deliver major developments, yet we remain firmly rooted in our community &amp; never lose sight of… https://t.co/qXA3eiFy4Q',\n",
       " 'Become a #SupportLocal legend by telling @exeterchamber how you or your organisation supports the local economy!… https://t.co/CAQygllcNR',\n",
       " 'EVENING WEBINAR |  17.11.20 @ 7.30 pm\\nAlice Bird will be joining @SpaceCornwall and @goonhillyorg  to talk about th… https://t.co/e4zXdWw2fy',\n",
       " 'Pledge ceremony has been carried out in different schools, #southwest, Delhi to follow appropriate behavior for… https://t.co/8qgZEXprAJ',\n",
       " '#COVID19 awareness team at malls in the jurisdiction of district #southwest to encourage people for appropriate beh… https://t.co/VbhXRF3qgh',\n",
       " '#M5 southbound between J14 and J15 | Southbound | Road Works | South Gloucestershire #uktrafficdelays #uktravelnews… https://t.co/2t4HBbkZPM',\n",
       " 'Early morning #COVID19 Awareness team at various tea stall and eating places in the jurisdiction of district… https://t.co/2IIP3JWRm9',\n",
       " 'New on the market!\\nHigh-quality family home in top location\\n🛏️4   🛁4   🏠297㎡   🌳1.118㎡\\n\\n3.450.000 EUR\\nSee full deta… https://t.co/hItK3HJDIL',\n",
       " 'Find out how #foodhubs are making  #localfood and #seasonalproduce more accessible to households in the #southwest… https://t.co/9H8ghqFJfv',\n",
       " 'General Construction Worker @bodengroup #SouthWest. Info/apply: https://t.co/KarXvpA4PA #DevonJobs #SouthDevonJobs https://t.co/gitQFU6ZSU',\n",
       " 'Kicking off today with a big welcome to two new members of the team. Mike Davis has joined our #salesteam, covering… https://t.co/IQH4EoNcKE',\n",
       " \"We're ready and waiting to speak to students, parents and teachers at the @SSCareers_Fair today.  #STEM #SouthWest… https://t.co/gS5B3roxsV\",\n",
       " '#A4 westbound between A363 and A46 | Westbound | Road Works | Bath and North East Somerset #uktrafficdelays… https://t.co/b201jBeUHH',\n",
       " '#M4 westbound between J14 and J15 | Westbound | Road Works | West Berkshire #uktrafficdelays #uktravelnews… https://t.co/hnTbAHhi7Z',\n",
       " '#A38 westbound between A390 near Liskeard (west) and A30 | Westbound | Road Works | Cornwall #uktrafficdelays… https://t.co/6H85ZsaOzA',\n",
       " '#A40 eastbound within the A4136 junction  | Eastbound | Road Works | Gloucestershire #uktrafficdelays #uktravelnews… https://t.co/3kLWHOIzqZ',\n",
       " '#A38 eastbound exit for B3372 (south) | Eastbound | Road Works | Devon #uktrafficdelays #uktravelnews https://t.co/ZK3RcbgBUI #southwest',\n",
       " '#SouthwestAirlines is in advanced talks with #Boeing and lessors to buy up to 30 #737MAX aircraft, which have lost… https://t.co/dghT9oEQOe',\n",
       " '#M5 J18 southbound exit | Southbound | Road Works | City of Bristol #uktrafficdelays #uktravelnews https://t.co/MwE6xEIC2o #southwest',\n",
       " \"25 Great Day Hikes in America's Deserts \\n#hiking #deserts #Southwest https://t.co/lDKFkUwgkr https://t.co/w7kVFWpdLI\",\n",
       " \"https://t.co/ZC6L8hvdEA No way!! If that's the only flight available with a 737 Max, I'll fly with another airline. #Southwest #737MAX\",\n",
       " '#M4 eastbound between J17 and J16 | Eastbound | Road Works | Wiltshire #uktrafficdelays #uktravelnews https://t.co/GTYGC9wzvs #southwest',\n",
       " '#M5 northbound within J26 | Northbound | Road Works | Somerset #uktrafficdelays #uktravelnews https://t.co/SyrakIk5mk #southwest',\n",
       " 'Buy and Gift SouthWest Airlines Miles\\nhttps://t.co/BQMiT62c1B \\n#Southwest \\n#Travel',\n",
       " '#A31 westbound within the A338 near Ringwood (west) junction | Westbound | Road Works | Dorset #uktrafficdelays… https://t.co/p77MT6MBFG',\n",
       " \".@ArtyTiles You don't need a weatherman. #southwest https://t.co/3KKbb8JUsc\",\n",
       " '#M5 southbound within J12 | Southbound | Road Works | Gloucestershire #uktrafficdelays #uktravelnews https://t.co/2umSty2ALW #southwest',\n",
       " 'Fantastic documentary from @SimonReeve highlighting the pros and cons of living and working in Cornwall.  If the So… https://t.co/6hv8eIyN3V',\n",
       " 'South West Pinnacle Exploration Limited\\n#southwest https://t.co/mAOpGGdhcB',\n",
       " 'Trail runs to arch nearly a football field long\\n#archesnationalpark #moab #Southwest https://t.co/wHMB71phdb https://t.co/HfU3G4skYF',\n",
       " '@tankie3rtr @bennyh1977 @WRFCA Done Dennis and voted #SouthWest',\n",
       " '#SouthWest Sports do your voting thing... https://t.co/g9XXo2o0Vq',\n",
       " 'Great trip, great service; thanks, #Southwest Airlines!  \\n(Fly. 189 MDW-BHM) https://t.co/MmPUGGNYVm',\n",
       " 'Spread the word. Stay safe everyone x #Devon #SouthWest https://t.co/JoX6rT1Wi5',\n",
       " '#M5 J25 southbound exit | Southbound | Road Works | Somerset #uktrafficdelays #uktravelnews https://t.co/dJ3NYFWRLn #southwest',\n",
       " '#A419 southbound between A4259 and M4 | Southbound | Road Works | Swindon #uktrafficdelays #uktravelnews https://t.co/Tm0qxsXgya #southwest',\n",
       " '#DidYouKnow At 12% humidity, the air in an airplane cabin is drier than most deserts. Stay hydrated! It’s also cold… https://t.co/p9zScN6j5Q',\n",
       " 'COVID Concern? Right or Wrong? Southwest Airlines Announces It Won’t Block Middle Seats in Its New Pandemic Policy… https://t.co/qrgqJtI1fT',\n",
       " '#A36 northbound between A362 and A350 (north) | Northbound | Road Works | Wiltshire #uktrafficdelays #uktravelnews… https://t.co/3w8Ok9gehb',\n",
       " '#Westernwear\\n#bolotie\\n#cowboy \\n#southwest \\nVintage BOLO Tie 1970s Genuine Blue Agate Stone Bullet Tails Marbleized… https://t.co/bbksaynQLU',\n",
       " \".@ArtyTiles Don't spit. #southwest https://t.co/NEzceR9xO4\",\n",
       " 'Congratulations to @SMSDC_TX and Karen Box #MBE #WBE #Southwest https://t.co/h9F8tU4O8K',\n",
       " 'Here are all the #latestvacancies for this week, based in  #SouthWest.\\n\\nLooking for #work? Let us guide you to the… https://t.co/Rlx5W7268P',\n",
       " 'NHS services – from GPs to hospitals – are still here for you in the #SouthWest and you should seek help if you nee… https://t.co/BgQvu2XsXw']"
      ]
     },
     "execution_count": 54,
     "metadata": {},
     "output_type": "execute_result"
    }
   ],
   "source": [
    "tweets = tw.Cursor(api.search,\n",
    "                       q=new_search,\n",
    "                       lang=\"en\",\n",
    "                       since=date_since).items(100)\n",
    "\n",
    "[tweet.text for tweet in tweets]"
   ]
  },
  {
   "cell_type": "code",
   "execution_count": null,
   "metadata": {},
   "outputs": [],
   "source": [
    "# you could count the number of retweets on a tweet and have that as a predictor variable"
   ]
  }
 ],
 "metadata": {
  "kernelspec": {
   "display_name": "Python 3",
   "language": "python",
   "name": "python3"
  },
  "language_info": {
   "codemirror_mode": {
    "name": "ipython",
    "version": 3
   },
   "file_extension": ".py",
   "mimetype": "text/x-python",
   "name": "python",
   "nbconvert_exporter": "python",
   "pygments_lexer": "ipython3",
   "version": "3.7.4"
  }
 },
 "nbformat": 4,
 "nbformat_minor": 2
}
