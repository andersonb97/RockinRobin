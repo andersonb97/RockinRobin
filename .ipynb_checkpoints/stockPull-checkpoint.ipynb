{
 "cells": [
  {
   "cell_type": "markdown",
   "metadata": {},
   "source": [
    "#### Import necessary packages"
   ]
  },
  {
   "cell_type": "code",
   "execution_count": 1,
   "metadata": {},
   "outputs": [],
   "source": [
    "import pandas as pd\n",
    "import numpy as np"
   ]
  },
  {
   "cell_type": "markdown",
   "metadata": {},
   "source": [
    "#### Get the ticker symbols for the S&P 500"
   ]
  },
  {
   "cell_type": "code",
   "execution_count": 6,
   "metadata": {},
   "outputs": [],
   "source": [
    "url = \"https://en.wikipedia.org/wiki/List_of_S%26P_500_companies\"\n",
    "symbols = pd.read_html(url)[0]['Symbol']"
   ]
  },
  {
   "cell_type": "markdown",
   "metadata": {},
   "source": [
    "#### Read in the last 10 days worth of data for the S&P 500 stocks"
   ]
  },
  {
   "cell_type": "code",
   "execution_count": null,
   "metadata": {},
   "outputs": [],
   "source": [
    "stockData = pd.DataFrame()\n",
    "for i in symbols:\n",
    "    # Get the ticker symbol\n",
    "    ticker = i\n",
    "    # Get the url for that symbol using the following formula\n",
    "    url2 = 'https://finance.yahoo.com/quote/' + ticker + '/history?p=' + ticker\n",
    "    # Get the first 10 observations for that stock\n",
    "    stocks = pd.read_html(url2)[0].head(10)\n",
    "    # Make sure to label the stock\n",
    "    stocks['ticker'] = ticker\n",
    "    # Grab only the important information and disregard stock split rows\n",
    "    stocks = stocks[[not i.lower().islower() for i in stocks.Open]]\n",
    "    # Find out the difference between closing price and opening price\n",
    "    stocks['delta'] = stocks['Close*'].astype(float) - stocks.Open.astype(float)\n",
    "    # Create a binary variable for change\n",
    "    stocks['delta_bin'] = ['up' if change >= 0 else 'down' for change in stocks.delta]\n",
    "    # Get the important variables\n",
    "    stocks = stocks[['ticker', 'Date', 'Open', 'Close*', 'delta', 'delta_bin']]\n",
    "    # Add the stocks to the other stocks dataframe\n",
    "    stockData = pd.concat([stockData, stocks])\n",
    "stockData"
   ]
  },
  {
   "cell_type": "markdown",
   "metadata": {},
   "source": [
    "#### Write results to .csv file"
   ]
  },
  {
   "cell_type": "code",
   "execution_count": 9,
   "metadata": {},
   "outputs": [],
   "source": [
    "stockData.to_csv(\"stockData.csv\", index=False)"
   ]
  },
  {
   "cell_type": "code",
   "execution_count": null,
   "metadata": {},
   "outputs": [],
   "source": []
  }
 ],
 "metadata": {
  "kernelspec": {
   "display_name": "Python 3",
   "language": "python",
   "name": "python3"
  },
  "language_info": {
   "codemirror_mode": {
    "name": "ipython",
    "version": 3
   },
   "file_extension": ".py",
   "mimetype": "text/x-python",
   "name": "python",
   "nbconvert_exporter": "python",
   "pygments_lexer": "ipython3",
   "version": "3.7.4"
  }
 },
 "nbformat": 4,
 "nbformat_minor": 2
}
