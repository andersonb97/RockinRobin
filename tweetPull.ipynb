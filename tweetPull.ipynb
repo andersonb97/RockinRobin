{
 "cells": [
  {
   "cell_type": "code",
   "execution_count": 1,
   "metadata": {},
   "outputs": [],
   "source": [
    "import os\n",
    "import tweepy as tw\n",
    "import pandas as pd\n",
    "from datetime import date\n",
    "from datetime import timedelta\n",
    "# look at vader -- for social media data"
   ]
  },
  {
   "cell_type": "code",
   "execution_count": 2,
   "metadata": {},
   "outputs": [],
   "source": [
    "# insert APIs here\n"
   ]
  },
  {
   "cell_type": "code",
   "execution_count": 3,
   "metadata": {},
   "outputs": [],
   "source": [
    "auth = tw.OAuthHandler(consumer_key, consumer_secret)\n",
    "auth.set_access_token(access_token, access_token_secret)\n",
    "api = tw.API(auth, wait_on_rate_limit=True)"
   ]
  },
  {
   "cell_type": "markdown",
   "metadata": {},
   "source": [
    "I think that the best that I can do for the project is to pull tweets about a company with the ticker symbol. Then if I want I can filter the results to only include important sources and not random people. For right now let's just pull of all of last week's tweets about the Fortune 500."
   ]
  },
  {
   "cell_type": "markdown",
   "metadata": {},
   "source": [
    "### Tweet Sources"
   ]
  },
  {
   "cell_type": "markdown",
   "metadata": {},
   "source": [
    "I need dates, ticker symbols, and company names. "
   ]
  },
  {
   "cell_type": "code",
   "execution_count": 8,
   "metadata": {},
   "outputs": [],
   "source": [
    "# ticker symobls and company names\n",
    "url = \"https://en.wikipedia.org/wiki/List_of_S%26P_500_companies\"\n",
    "sAndp = pd.read_html(url)[0][['Symbol', 'Security']]"
   ]
  },
  {
   "cell_type": "code",
   "execution_count": 9,
   "metadata": {},
   "outputs": [],
   "source": [
    "# dates (twitter will only give access to the last week's tweets)\n",
    "dates = [(date.today() - timedelta(days=i)) for i in range(0, 10)]\n",
    "search_words = sAndp['Symbol'] + \" \" + \"OR '\" + sAndp['Security'] + \"' -filter:retweets\"\n",
    "num_tweets = 10000"
   ]
  },
  {
   "cell_type": "code",
   "execution_count": 10,
   "metadata": {},
   "outputs": [
    {
     "name": "stderr",
     "output_type": "stream",
     "text": [
      "Rate limit reached. Sleeping for: 859\n",
      "Rate limit reached. Sleeping for: 862\n",
      "Rate limit reached. Sleeping for: 859\n",
      "Rate limit reached. Sleeping for: 866\n",
      "Rate limit reached. Sleeping for: 872\n",
      "Rate limit reached. Sleeping for: 865\n",
      "Rate limit reached. Sleeping for: 870\n",
      "Rate limit reached. Sleeping for: 873\n",
      "Rate limit reached. Sleeping for: 864\n",
      "Rate limit reached. Sleeping for: 869\n",
      "Rate limit reached. Sleeping for: 866\n",
      "Rate limit reached. Sleeping for: 866\n",
      "Rate limit reached. Sleeping for: 865\n",
      "Rate limit reached. Sleeping for: 869\n",
      "Rate limit reached. Sleeping for: 862\n",
      "Rate limit reached. Sleeping for: 865\n",
      "Rate limit reached. Sleeping for: 866\n",
      "Rate limit reached. Sleeping for: 864\n",
      "Rate limit reached. Sleeping for: 874\n",
      "Rate limit reached. Sleeping for: 871\n",
      "Rate limit reached. Sleeping for: 873\n",
      "Rate limit reached. Sleeping for: 873\n",
      "Rate limit reached. Sleeping for: 869\n",
      "Rate limit reached. Sleeping for: 866\n",
      "Rate limit reached. Sleeping for: 863\n",
      "Rate limit reached. Sleeping for: 866\n",
      "Rate limit reached. Sleeping for: 863\n"
     ]
    }
   ],
   "source": [
    "tweet_agg = pd.DataFrame()\n",
    "\n",
    "for i in search_words:\n",
    "    words = i\n",
    "    for j in range(0, 9):\n",
    "        \n",
    "        start_date = dates[j]\n",
    "        end_date = dates[j + 1]\n",
    "        \n",
    "        tweets = tw.Cursor(api.search,\n",
    "                       q=i,\n",
    "                       lang=\"en\",\n",
    "                       until=start_date,\n",
    "                       since=end_date,\n",
    "                       wait_on_rate_limit = True,\n",
    "                       wait_on_rate_limit_notify = True,\n",
    "                       result_type=\"popular\").items(num_tweets)\n",
    "\n",
    "        tweet_info = pd.DataFrame([[tweet.text,\n",
    "                                    tweet.user.screen_name,\n",
    "                                    tweet.user.location, \n",
    "                                    tweet.created_at,\n",
    "                                    tweet.retweet_count,\n",
    "                                   words] for tweet in tweets])\n",
    "        \n",
    "        tweet_agg = pd.concat([tweet_agg, tweet_info])\n",
    "        "
   ]
  },
  {
   "cell_type": "code",
   "execution_count": 11,
   "metadata": {},
   "outputs": [],
   "source": [
    "tweet_agg[3] = tweet_agg[3].astype(str)"
   ]
  },
  {
   "cell_type": "code",
   "execution_count": 12,
   "metadata": {},
   "outputs": [],
   "source": [
    "# i wonder if I could pull the number of followers from the person who tweeted it\n",
    "tweet_agg.to_csv('tweetData3.csv', index=False)"
   ]
  },
  {
   "cell_type": "code",
   "execution_count": null,
   "metadata": {},
   "outputs": [],
   "source": []
  }
 ],
 "metadata": {
  "kernelspec": {
   "display_name": "Python 3",
   "language": "python",
   "name": "python3"
  },
  "language_info": {
   "codemirror_mode": {
    "name": "ipython",
    "version": 3
   },
   "file_extension": ".py",
   "mimetype": "text/x-python",
   "name": "python",
   "nbconvert_exporter": "python",
   "pygments_lexer": "ipython3",
   "version": "3.7.4"
  }
 },
 "nbformat": 4,
 "nbformat_minor": 2
}
