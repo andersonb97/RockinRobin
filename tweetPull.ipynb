{
 "cells": [
  {
   "cell_type": "code",
   "execution_count": 15,
   "metadata": {},
   "outputs": [],
   "source": [
    "import os\n",
    "import tweepy as tw\n",
    "import pandas as pd\n",
    "# look at twarkk\n",
    "# look at vader -- for social media data\n",
    "# "
   ]
  },
  {
   "cell_type": "code",
   "execution_count": 16,
   "metadata": {},
   "outputs": [],
   "source": [
    "# insert APIs here\n"
   ]
  },
  {
   "cell_type": "code",
   "execution_count": 17,
   "metadata": {},
   "outputs": [],
   "source": [
    "auth = tw.OAuthHandler(consumer_key, consumer_secret)\n",
    "auth.set_access_token(access_token, access_token_secret)\n",
    "api = tw.API(auth, wait_on_rate_limit=True)"
   ]
  },
  {
   "cell_type": "code",
   "execution_count": 34,
   "metadata": {},
   "outputs": [],
   "source": [
    "# Define the search term and the date_since date as variables\n",
    "search_words = 'Facebook'\n",
    "date_since = '2020-09-01'"
   ]
  },
  {
   "cell_type": "code",
   "execution_count": 35,
   "metadata": {},
   "outputs": [
    {
     "data": {
      "text/plain": [
       "['RT @allymayn: Fox News and Facebook did to our parents what they said video games would do to us.',\n",
       " 'RT @allymayn: Fox News and Facebook did to our parents what they said video games would do to us.',\n",
       " '@HawleyMO @Facebook Addictive?  Gosh that’s gotta be top priority!  What a waste of a senator',\n",
       " 'RT @suelozada: Happy Tuesday AM ? What are you responsible for at school? Top 3-students, parents, &amp; teams. TY to Kinder &amp; Mrs. Wendler for…',\n",
       " 'RT @babyitsmb: Instragam: Gets stories\\nTwitter: Gets stories\\nFacebook: gets stories \\nSnapchat : https://t.co/yaNBUQGjw9']"
      ]
     },
     "execution_count": 35,
     "metadata": {},
     "output_type": "execute_result"
    }
   ],
   "source": [
    "tweets = tw.Cursor(api.search,\n",
    "              q=search_words,\n",
    "              lang=\"en\",\n",
    "              since=date_since).items(5)\n",
    "[tweet.text for tweet in tweets]"
   ]
  },
  {
   "cell_type": "code",
   "execution_count": 36,
   "metadata": {},
   "outputs": [
    {
     "data": {
      "text/plain": [
       "['And Facebook 😭😭 https://t.co/UsPtiDl1s6',\n",
       " 'this shit giving me Facebook vibes',\n",
       " 'Crazy that WhatsApp is still the same and user friendly considering everything else Facebook owns is a shitty mess',\n",
       " 'Ted Cruz Calls Out Senate Democrats During Twitter/Facebook Hearing https://t.co/RtTpTKUpRi',\n",
       " 'Omg this is so funny \\nhttps://t.co/tEWzVstvWZ']"
      ]
     },
     "execution_count": 36,
     "metadata": {},
     "output_type": "execute_result"
    }
   ],
   "source": [
    "# remove re-tweets\n",
    "new_search = search_words + \" -filter:retweets\"\n",
    "tweets = tw.Cursor(api.search,\n",
    "                       q=new_search,\n",
    "                       lang=\"en\",\n",
    "                       since=date_since).items(5)\n",
    "\n",
    "txt = [tweet.text for tweet in tweets]\n",
    "txt"
   ]
  },
  {
   "cell_type": "code",
   "execution_count": 37,
   "metadata": {},
   "outputs": [
    {
     "data": {
      "text/plain": [
       "[['TahirahAKL', ''],\n",
       " ['_queenrichelle', 'Sunnyside'],\n",
       " ['MrBeego2u', 'Here and There'],\n",
       " ['samhibbs', ''],\n",
       " ['kaffi68', 'Yorkshire']]"
      ]
     },
     "execution_count": 37,
     "metadata": {},
     "output_type": "execute_result"
    }
   ],
   "source": [
    "# grab screen_name and location\n",
    "tweets = tw.Cursor(api.search,\n",
    "                       q=new_search,\n",
    "                       lang=\"en\",\n",
    "                       since=date_since).items(5)\n",
    "\n",
    "users_locs = [[tweet.user.screen_name, tweet.user.location] for tweet in tweets]\n",
    "users_locs"
   ]
  },
  {
   "cell_type": "code",
   "execution_count": 38,
   "metadata": {},
   "outputs": [],
   "source": [
    "#create a pandas df from a list of tweet data\n",
    "tweet_info = pd.DataFrame(data=users_locs,\n",
    "                         columns=['user', 'location'])\n",
    "tweet_text = pd.DataFrame(data=txt,\n",
    "                         columns=['txt'])\n"
   ]
  },
  {
   "cell_type": "code",
   "execution_count": 39,
   "metadata": {},
   "outputs": [
    {
     "data": {
      "text/html": [
       "<div>\n",
       "<style scoped>\n",
       "    .dataframe tbody tr th:only-of-type {\n",
       "        vertical-align: middle;\n",
       "    }\n",
       "\n",
       "    .dataframe tbody tr th {\n",
       "        vertical-align: top;\n",
       "    }\n",
       "\n",
       "    .dataframe thead th {\n",
       "        text-align: right;\n",
       "    }\n",
       "</style>\n",
       "<table border=\"1\" class=\"dataframe\">\n",
       "  <thead>\n",
       "    <tr style=\"text-align: right;\">\n",
       "      <th></th>\n",
       "      <th>txt</th>\n",
       "    </tr>\n",
       "  </thead>\n",
       "  <tbody>\n",
       "    <tr>\n",
       "      <td>0</td>\n",
       "      <td>And Facebook 😭😭 https://t.co/UsPtiDl1s6</td>\n",
       "    </tr>\n",
       "    <tr>\n",
       "      <td>1</td>\n",
       "      <td>this shit giving me Facebook vibes</td>\n",
       "    </tr>\n",
       "    <tr>\n",
       "      <td>2</td>\n",
       "      <td>Crazy that WhatsApp is still the same and user...</td>\n",
       "    </tr>\n",
       "    <tr>\n",
       "      <td>3</td>\n",
       "      <td>Ted Cruz Calls Out Senate Democrats During Twi...</td>\n",
       "    </tr>\n",
       "    <tr>\n",
       "      <td>4</td>\n",
       "      <td>Omg this is so funny \\nhttps://t.co/tEWzVstvWZ</td>\n",
       "    </tr>\n",
       "  </tbody>\n",
       "</table>\n",
       "</div>"
      ],
      "text/plain": [
       "                                                 txt\n",
       "0            And Facebook 😭😭 https://t.co/UsPtiDl1s6\n",
       "1                 this shit giving me Facebook vibes\n",
       "2  Crazy that WhatsApp is still the same and user...\n",
       "3  Ted Cruz Calls Out Senate Democrats During Twi...\n",
       "4     Omg this is so funny \\nhttps://t.co/tEWzVstvWZ"
      ]
     },
     "execution_count": 39,
     "metadata": {},
     "output_type": "execute_result"
    }
   ],
   "source": [
    "tweet_text"
   ]
  },
  {
   "cell_type": "code",
   "execution_count": 33,
   "metadata": {},
   "outputs": [
    {
     "data": {
      "text/html": [
       "<div>\n",
       "<style scoped>\n",
       "    .dataframe tbody tr th:only-of-type {\n",
       "        vertical-align: middle;\n",
       "    }\n",
       "\n",
       "    .dataframe tbody tr th {\n",
       "        vertical-align: top;\n",
       "    }\n",
       "\n",
       "    .dataframe thead th {\n",
       "        text-align: right;\n",
       "    }\n",
       "</style>\n",
       "<table border=\"1\" class=\"dataframe\">\n",
       "  <thead>\n",
       "    <tr style=\"text-align: right;\">\n",
       "      <th></th>\n",
       "      <th>user</th>\n",
       "      <th>location</th>\n",
       "    </tr>\n",
       "  </thead>\n",
       "  <tbody>\n",
       "    <tr>\n",
       "      <td>0</td>\n",
       "      <td>rondovision</td>\n",
       "      <td>Houston, TX</td>\n",
       "    </tr>\n",
       "    <tr>\n",
       "      <td>1</td>\n",
       "      <td>SENabilities</td>\n",
       "      <td></td>\n",
       "    </tr>\n",
       "    <tr>\n",
       "      <td>2</td>\n",
       "      <td>Its_BreezyBabyy</td>\n",
       "      <td>On Neptune probably ✨</td>\n",
       "    </tr>\n",
       "    <tr>\n",
       "      <td>3</td>\n",
       "      <td>MochaAlmondFudg</td>\n",
       "      <td></td>\n",
       "    </tr>\n",
       "    <tr>\n",
       "      <td>4</td>\n",
       "      <td>3MCMilli</td>\n",
       "      <td>Somwhere in Akron, OH</td>\n",
       "    </tr>\n",
       "  </tbody>\n",
       "</table>\n",
       "</div>"
      ],
      "text/plain": [
       "              user               location\n",
       "0      rondovision            Houston, TX\n",
       "1     SENabilities                       \n",
       "2  Its_BreezyBabyy  On Neptune probably ✨\n",
       "3  MochaAlmondFudg                       \n",
       "4         3MCMilli  Somwhere in Akron, OH"
      ]
     },
     "execution_count": 33,
     "metadata": {},
     "output_type": "execute_result"
    }
   ],
   "source": [
    "tweet_info"
   ]
  },
  {
   "cell_type": "code",
   "execution_count": 79,
   "metadata": {},
   "outputs": [],
   "source": [
    "# you could count the number of retweets on a tweet and have that as a predictor variable\n",
    "# i wonder if I could pull the number of followers from the person who tweeted it\n",
    "\n",
    "# look up twitter api documentation\n",
    "# I could also grab new sources tweets"
   ]
  },
  {
   "cell_type": "code",
   "execution_count": null,
   "metadata": {},
   "outputs": [],
   "source": []
  }
 ],
 "metadata": {
  "kernelspec": {
   "display_name": "Python 3",
   "language": "python",
   "name": "python3"
  },
  "language_info": {
   "codemirror_mode": {
    "name": "ipython",
    "version": 3
   },
   "file_extension": ".py",
   "mimetype": "text/x-python",
   "name": "python",
   "nbconvert_exporter": "python",
   "pygments_lexer": "ipython3",
   "version": "3.7.4"
  }
 },
 "nbformat": 4,
 "nbformat_minor": 2
}
