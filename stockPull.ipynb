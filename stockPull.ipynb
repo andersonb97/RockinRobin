{
 "cells": [
  {
   "cell_type": "markdown",
   "metadata": {},
   "source": [
    "# Pull Stock Data"
   ]
  },
  {
   "cell_type": "markdown",
   "metadata": {},
   "source": [
    "#### Import necessary packages"
   ]
  },
  {
   "cell_type": "code",
   "execution_count": 1,
   "metadata": {},
   "outputs": [],
   "source": [
    "import pandas as pd\n",
    "import numpy as np"
   ]
  },
  {
   "cell_type": "markdown",
   "metadata": {},
   "source": [
    "#### Get the ticker symbols for the S&P 500"
   ]
  },
  {
   "cell_type": "code",
   "execution_count": 2,
   "metadata": {},
   "outputs": [],
   "source": [
    "url = \"https://en.wikipedia.org/wiki/List_of_S%26P_500_companies\"\n",
    "symbols = pd.read_html(url)[0]['Symbol']"
   ]
  },
  {
   "cell_type": "markdown",
   "metadata": {},
   "source": [
    "#### Read in the last 10 days worth of data for the S&P 500 stocks"
   ]
  },
  {
   "cell_type": "code",
   "execution_count": 3,
   "metadata": {},
   "outputs": [
    {
     "name": "stderr",
     "output_type": "stream",
     "text": [
      "C:\\Users\\ander\\Anaconda3\\lib\\site-packages\\ipykernel_launcher.py:10: SettingWithCopyWarning: \n",
      "A value is trying to be set on a copy of a slice from a DataFrame.\n",
      "Try using .loc[row_indexer,col_indexer] = value instead\n",
      "\n",
      "See the caveats in the documentation: http://pandas.pydata.org/pandas-docs/stable/user_guide/indexing.html#returning-a-view-versus-a-copy\n",
      "  # Remove the CWD from sys.path while we load stuff.\n"
     ]
    },
    {
     "data": {
      "text/html": [
       "<div>\n",
       "<style scoped>\n",
       "    .dataframe tbody tr th:only-of-type {\n",
       "        vertical-align: middle;\n",
       "    }\n",
       "\n",
       "    .dataframe tbody tr th {\n",
       "        vertical-align: top;\n",
       "    }\n",
       "\n",
       "    .dataframe thead th {\n",
       "        text-align: right;\n",
       "    }\n",
       "</style>\n",
       "<table border=\"1\" class=\"dataframe\">\n",
       "  <thead>\n",
       "    <tr style=\"text-align: right;\">\n",
       "      <th></th>\n",
       "      <th>ticker</th>\n",
       "      <th>Date</th>\n",
       "      <th>Open</th>\n",
       "      <th>Close*</th>\n",
       "      <th>delta</th>\n",
       "      <th>delta_bin</th>\n",
       "    </tr>\n",
       "  </thead>\n",
       "  <tbody>\n",
       "    <tr>\n",
       "      <td>0</td>\n",
       "      <td>MMM</td>\n",
       "      <td>Dec 07, 2020</td>\n",
       "      <td>171.72</td>\n",
       "      <td>169.51</td>\n",
       "      <td>-2.21</td>\n",
       "      <td>down</td>\n",
       "    </tr>\n",
       "    <tr>\n",
       "      <td>1</td>\n",
       "      <td>MMM</td>\n",
       "      <td>Dec 04, 2020</td>\n",
       "      <td>172.13</td>\n",
       "      <td>172.46</td>\n",
       "      <td>0.33</td>\n",
       "      <td>up</td>\n",
       "    </tr>\n",
       "    <tr>\n",
       "      <td>2</td>\n",
       "      <td>MMM</td>\n",
       "      <td>Dec 03, 2020</td>\n",
       "      <td>171.04</td>\n",
       "      <td>171.83</td>\n",
       "      <td>0.79</td>\n",
       "      <td>up</td>\n",
       "    </tr>\n",
       "    <tr>\n",
       "      <td>3</td>\n",
       "      <td>MMM</td>\n",
       "      <td>Dec 02, 2020</td>\n",
       "      <td>170.26</td>\n",
       "      <td>171.85</td>\n",
       "      <td>1.59</td>\n",
       "      <td>up</td>\n",
       "    </tr>\n",
       "    <tr>\n",
       "      <td>4</td>\n",
       "      <td>MMM</td>\n",
       "      <td>Dec 01, 2020</td>\n",
       "      <td>174.22</td>\n",
       "      <td>170.52</td>\n",
       "      <td>-3.70</td>\n",
       "      <td>down</td>\n",
       "    </tr>\n",
       "    <tr>\n",
       "      <td>...</td>\n",
       "      <td>...</td>\n",
       "      <td>...</td>\n",
       "      <td>...</td>\n",
       "      <td>...</td>\n",
       "      <td>...</td>\n",
       "      <td>...</td>\n",
       "    </tr>\n",
       "    <tr>\n",
       "      <td>5</td>\n",
       "      <td>ZTS</td>\n",
       "      <td>Nov 30, 2020</td>\n",
       "      <td>162.48</td>\n",
       "      <td>160.38</td>\n",
       "      <td>-2.10</td>\n",
       "      <td>down</td>\n",
       "    </tr>\n",
       "    <tr>\n",
       "      <td>6</td>\n",
       "      <td>ZTS</td>\n",
       "      <td>Nov 27, 2020</td>\n",
       "      <td>161.62</td>\n",
       "      <td>161.47</td>\n",
       "      <td>-0.15</td>\n",
       "      <td>down</td>\n",
       "    </tr>\n",
       "    <tr>\n",
       "      <td>7</td>\n",
       "      <td>ZTS</td>\n",
       "      <td>Nov 25, 2020</td>\n",
       "      <td>161.99</td>\n",
       "      <td>160.19</td>\n",
       "      <td>-1.80</td>\n",
       "      <td>down</td>\n",
       "    </tr>\n",
       "    <tr>\n",
       "      <td>8</td>\n",
       "      <td>ZTS</td>\n",
       "      <td>Nov 24, 2020</td>\n",
       "      <td>164.39</td>\n",
       "      <td>161.06</td>\n",
       "      <td>-3.33</td>\n",
       "      <td>down</td>\n",
       "    </tr>\n",
       "    <tr>\n",
       "      <td>9</td>\n",
       "      <td>ZTS</td>\n",
       "      <td>Nov 23, 2020</td>\n",
       "      <td>166.15</td>\n",
       "      <td>164.34</td>\n",
       "      <td>-1.81</td>\n",
       "      <td>down</td>\n",
       "    </tr>\n",
       "  </tbody>\n",
       "</table>\n",
       "<p>4946 rows × 6 columns</p>\n",
       "</div>"
      ],
      "text/plain": [
       "   ticker          Date    Open  Close*  delta delta_bin\n",
       "0     MMM  Dec 07, 2020  171.72  169.51  -2.21      down\n",
       "1     MMM  Dec 04, 2020  172.13  172.46   0.33        up\n",
       "2     MMM  Dec 03, 2020  171.04  171.83   0.79        up\n",
       "3     MMM  Dec 02, 2020  170.26  171.85   1.59        up\n",
       "4     MMM  Dec 01, 2020  174.22  170.52  -3.70      down\n",
       "..    ...           ...     ...     ...    ...       ...\n",
       "5     ZTS  Nov 30, 2020  162.48  160.38  -2.10      down\n",
       "6     ZTS  Nov 27, 2020  161.62  161.47  -0.15      down\n",
       "7     ZTS  Nov 25, 2020  161.99  160.19  -1.80      down\n",
       "8     ZTS  Nov 24, 2020  164.39  161.06  -3.33      down\n",
       "9     ZTS  Nov 23, 2020  166.15  164.34  -1.81      down\n",
       "\n",
       "[4946 rows x 6 columns]"
      ]
     },
     "execution_count": 3,
     "metadata": {},
     "output_type": "execute_result"
    }
   ],
   "source": [
    "stockData = pd.DataFrame()\n",
    "for i in symbols:\n",
    "    # Get the ticker symbol\n",
    "    ticker = i\n",
    "    # Get the url for that symbol using the following formula\n",
    "    url2 = 'https://finance.yahoo.com/quote/' + ticker + '/history?p=' + ticker\n",
    "    # Get the first 10 observations for that stock\n",
    "    stocks = pd.read_html(url2)[0].head(10)\n",
    "    # Make sure to label the stock\n",
    "    stocks['ticker'] = ticker\n",
    "    # Grab only the important information and disregard stock split rows\n",
    "    stocks = stocks[[not i.lower().islower() for i in stocks.Open]]\n",
    "    # Find out the difference between closing price and opening price\n",
    "    stocks['delta'] = stocks['Close*'].astype(float) - stocks.Open.astype(float)\n",
    "    # Create a binary variable for change\n",
    "    stocks['delta_bin'] = ['up' if change >= 0 else 'down' for change in stocks.delta]\n",
    "    # Get the important variables\n",
    "    stocks = stocks[['ticker', 'Date', 'Open', 'Close*', 'delta', 'delta_bin']]\n",
    "    # Add the stocks to the other stocks dataframe\n",
    "    stockData = pd.concat([stockData, stocks])\n",
    "stockData"
   ]
  },
  {
   "cell_type": "markdown",
   "metadata": {},
   "source": [
    "#### Write results to .csv file"
   ]
  },
  {
   "cell_type": "code",
   "execution_count": 4,
   "metadata": {},
   "outputs": [],
   "source": [
    "stockData_comb = pd.concat([pd.read_csv(\"stockData.csv\"), stockData])"
   ]
  },
  {
   "cell_type": "code",
   "execution_count": 5,
   "metadata": {},
   "outputs": [],
   "source": [
    "stockData_comb.to_csv(\"stockData.csv\", index=False)"
   ]
  },
  {
   "cell_type": "code",
   "execution_count": null,
   "metadata": {},
   "outputs": [],
   "source": []
  }
 ],
 "metadata": {
  "kernelspec": {
   "display_name": "Python 3",
   "language": "python",
   "name": "python3"
  },
  "language_info": {
   "codemirror_mode": {
    "name": "ipython",
    "version": 3
   },
   "file_extension": ".py",
   "mimetype": "text/x-python",
   "name": "python",
   "nbconvert_exporter": "python",
   "pygments_lexer": "ipython3",
   "version": "3.7.4"
  }
 },
 "nbformat": 4,
 "nbformat_minor": 2
}
