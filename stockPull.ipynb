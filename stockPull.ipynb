{
 "cells": [
  {
   "cell_type": "markdown",
   "metadata": {},
   "source": [
    "#### Import necessary packages"
   ]
  },
  {
   "cell_type": "code",
   "execution_count": 1,
   "metadata": {},
   "outputs": [],
   "source": [
    "import pandas as pd\n",
    "import numpy as np"
   ]
  },
  {
   "cell_type": "markdown",
   "metadata": {},
   "source": [
    "#### Get the ticker symbols for the S&P 500"
   ]
  },
  {
   "cell_type": "code",
   "execution_count": 6,
   "metadata": {},
   "outputs": [],
   "source": [
    "url = \"https://en.wikipedia.org/wiki/List_of_S%26P_500_companies\"\n",
    "symbols = pd.read_html(url)[0]['Symbol']"
   ]
  },
  {
   "cell_type": "markdown",
   "metadata": {},
   "source": [
    "#### Read in the last 10 days worth of data for the S&P 500 stocks"
   ]
  },
  {
   "cell_type": "code",
   "execution_count": 10,
   "metadata": {},
   "outputs": [
    {
     "data": {
      "text/html": [
       "<div>\n",
       "<style scoped>\n",
       "    .dataframe tbody tr th:only-of-type {\n",
       "        vertical-align: middle;\n",
       "    }\n",
       "\n",
       "    .dataframe tbody tr th {\n",
       "        vertical-align: top;\n",
       "    }\n",
       "\n",
       "    .dataframe thead th {\n",
       "        text-align: right;\n",
       "    }\n",
       "</style>\n",
       "<table border=\"1\" class=\"dataframe\">\n",
       "  <thead>\n",
       "    <tr style=\"text-align: right;\">\n",
       "      <th></th>\n",
       "      <th>ticker</th>\n",
       "      <th>Date</th>\n",
       "      <th>Open</th>\n",
       "      <th>Close*</th>\n",
       "      <th>delta</th>\n",
       "      <th>delta_bin</th>\n",
       "    </tr>\n",
       "  </thead>\n",
       "  <tbody>\n",
       "    <tr>\n",
       "      <td>0</td>\n",
       "      <td>MMM</td>\n",
       "      <td>Nov 20, 2020</td>\n",
       "      <td>171.50</td>\n",
       "      <td>172.89</td>\n",
       "      <td>1.39</td>\n",
       "      <td>up</td>\n",
       "    </tr>\n",
       "    <tr>\n",
       "      <td>1</td>\n",
       "      <td>MMM</td>\n",
       "      <td>Nov 19, 2020</td>\n",
       "      <td>170.57</td>\n",
       "      <td>171.61</td>\n",
       "      <td>1.04</td>\n",
       "      <td>up</td>\n",
       "    </tr>\n",
       "    <tr>\n",
       "      <td>3</td>\n",
       "      <td>MMM</td>\n",
       "      <td>Nov 18, 2020</td>\n",
       "      <td>174.50</td>\n",
       "      <td>171.40</td>\n",
       "      <td>-3.10</td>\n",
       "      <td>down</td>\n",
       "    </tr>\n",
       "    <tr>\n",
       "      <td>4</td>\n",
       "      <td>MMM</td>\n",
       "      <td>Nov 17, 2020</td>\n",
       "      <td>173.04</td>\n",
       "      <td>173.64</td>\n",
       "      <td>0.60</td>\n",
       "      <td>up</td>\n",
       "    </tr>\n",
       "    <tr>\n",
       "      <td>5</td>\n",
       "      <td>MMM</td>\n",
       "      <td>Nov 16, 2020</td>\n",
       "      <td>172.62</td>\n",
       "      <td>173.86</td>\n",
       "      <td>1.24</td>\n",
       "      <td>up</td>\n",
       "    </tr>\n",
       "    <tr>\n",
       "      <td>...</td>\n",
       "      <td>...</td>\n",
       "      <td>...</td>\n",
       "      <td>...</td>\n",
       "      <td>...</td>\n",
       "      <td>...</td>\n",
       "      <td>...</td>\n",
       "    </tr>\n",
       "    <tr>\n",
       "      <td>5</td>\n",
       "      <td>ZTS</td>\n",
       "      <td>Nov 13, 2020</td>\n",
       "      <td>165.46</td>\n",
       "      <td>165.78</td>\n",
       "      <td>0.32</td>\n",
       "      <td>up</td>\n",
       "    </tr>\n",
       "    <tr>\n",
       "      <td>6</td>\n",
       "      <td>ZTS</td>\n",
       "      <td>Nov 12, 2020</td>\n",
       "      <td>164.16</td>\n",
       "      <td>165.19</td>\n",
       "      <td>1.03</td>\n",
       "      <td>up</td>\n",
       "    </tr>\n",
       "    <tr>\n",
       "      <td>7</td>\n",
       "      <td>ZTS</td>\n",
       "      <td>Nov 11, 2020</td>\n",
       "      <td>164.99</td>\n",
       "      <td>164.95</td>\n",
       "      <td>-0.04</td>\n",
       "      <td>down</td>\n",
       "    </tr>\n",
       "    <tr>\n",
       "      <td>8</td>\n",
       "      <td>ZTS</td>\n",
       "      <td>Nov 10, 2020</td>\n",
       "      <td>166.04</td>\n",
       "      <td>162.56</td>\n",
       "      <td>-3.48</td>\n",
       "      <td>down</td>\n",
       "    </tr>\n",
       "    <tr>\n",
       "      <td>9</td>\n",
       "      <td>ZTS</td>\n",
       "      <td>Nov 09, 2020</td>\n",
       "      <td>175.46</td>\n",
       "      <td>165.20</td>\n",
       "      <td>-10.26</td>\n",
       "      <td>down</td>\n",
       "    </tr>\n",
       "  </tbody>\n",
       "</table>\n",
       "<p>4967 rows × 6 columns</p>\n",
       "</div>"
      ],
      "text/plain": [
       "   ticker          Date    Open  Close*  delta delta_bin\n",
       "0     MMM  Nov 20, 2020  171.50  172.89   1.39        up\n",
       "1     MMM  Nov 19, 2020  170.57  171.61   1.04        up\n",
       "3     MMM  Nov 18, 2020  174.50  171.40  -3.10      down\n",
       "4     MMM  Nov 17, 2020  173.04  173.64   0.60        up\n",
       "5     MMM  Nov 16, 2020  172.62  173.86   1.24        up\n",
       "..    ...           ...     ...     ...    ...       ...\n",
       "5     ZTS  Nov 13, 2020  165.46  165.78   0.32        up\n",
       "6     ZTS  Nov 12, 2020  164.16  165.19   1.03        up\n",
       "7     ZTS  Nov 11, 2020  164.99  164.95  -0.04      down\n",
       "8     ZTS  Nov 10, 2020  166.04  162.56  -3.48      down\n",
       "9     ZTS  Nov 09, 2020  175.46  165.20 -10.26      down\n",
       "\n",
       "[4967 rows x 6 columns]"
      ]
     },
     "execution_count": 10,
     "metadata": {},
     "output_type": "execute_result"
    }
   ],
   "source": [
    "stockData = pd.DataFrame()\n",
    "for i in symbols:\n",
    "    # Get the ticker symbol\n",
    "    ticker = i\n",
    "    # Get the url for that symbol using the following formula\n",
    "    url2 = 'https://finance.yahoo.com/quote/' + ticker + '/history?p=' + ticker\n",
    "    # Get the first 10 observations for that stock\n",
    "    stocks = pd.read_html(url2)[0].head(10)\n",
    "    # Make sure to label the stock\n",
    "    stocks['ticker'] = ticker\n",
    "    # Grab only the important information and disregard stock split rows\n",
    "    stocks = stocks[[not i.lower().islower() for i in stocks.Open]]\n",
    "    # Find out the difference between closing price and opening price\n",
    "    stocks['delta'] = stocks['Close*'].astype(float) - stocks.Open.astype(float)\n",
    "    # Create a binary variable for change\n",
    "    stocks['delta_bin'] = ['up' if change >= 0 else 'down' for change in stocks.delta]\n",
    "    # Get the important variables\n",
    "    stocks = stocks[['ticker', 'Date', 'Open', 'Close*', 'delta', 'delta_bin']]\n",
    "    # Add the stocks to the other stocks dataframe\n",
    "    stockData = pd.concat([stockData, stocks])\n",
    "stockData"
   ]
  },
  {
   "cell_type": "markdown",
   "metadata": {},
   "source": [
    "#### Write results to .csv file"
   ]
  },
  {
   "cell_type": "code",
   "execution_count": 9,
   "metadata": {},
   "outputs": [],
   "source": [
    "stockData.to_csv(\"stockData.csv\", index=False)"
   ]
  },
  {
   "cell_type": "code",
   "execution_count": null,
   "metadata": {},
   "outputs": [],
   "source": []
  }
 ],
 "metadata": {
  "kernelspec": {
   "display_name": "Python 3",
   "language": "python",
   "name": "python3"
  },
  "language_info": {
   "codemirror_mode": {
    "name": "ipython",
    "version": 3
   },
   "file_extension": ".py",
   "mimetype": "text/x-python",
   "name": "python",
   "nbconvert_exporter": "python",
   "pygments_lexer": "ipython3",
   "version": "3.7.4"
  }
 },
 "nbformat": 4,
 "nbformat_minor": 2
}
